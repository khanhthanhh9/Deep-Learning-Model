{
  "nbformat": 4,
  "nbformat_minor": 0,
  "metadata": {
    "jupytext": {
      "split_at_heading": true
    },
    "kernelspec": {
      "display_name": "Python 3",
      "language": "python",
      "name": "python3"
    },
    "colab": {
      "name": "2 Korea Chinese VN",
      "provenance": [],
      "collapsed_sections": [
        "0UFF9AU1mHvs",
        "Pbc3P5OymHvt",
        "G69lLaQ1mHvt",
        "2q3qxLqNmHvt",
        "7pu4zP3jmHvu",
        "FUW1jG4imHvu",
        "pBEgxOlhmHvv",
        "f_j28qL-mHv1",
        "oDalQ9bSmHv2",
        "g__QFhKwmHv2",
        "zjpmUIzYmHv5",
        "tlsWEynnmHv6",
        "aEE8U446mHv9",
        "xxe63tHZmHv-",
        "Xhmsb7qrmHwA",
        "QLRHGaRPmHwF",
        "zxA5LaWsmHwF",
        "7yTnhwywmHwH",
        "AdmGhs90mHwI",
        "9OQvCGMzmHwI",
        "jQKksE3RmHwI",
        "5bmSlvI9mHwJ"
      ],
      "toc_visible": true,
      "include_colab_link": true
    },
    "widgets": {
      "application/vnd.jupyter.widget-state+json": {
        "bde1f599b07647cb8bd19d9c979bdaaa": {
          "model_module": "@jupyter-widgets/controls",
          "model_name": "FileUploadModel",
          "state": {
            "_view_name": "FileUploadView",
            "_counter": 2,
            "style": "IPY_MODEL_6c30ed98ee8849b7b2ae5144ef1ec909",
            "_dom_classes": [],
            "description": "Upload",
            "multiple": false,
            "_model_name": "FileUploadModel",
            "data": [
              null
            ],
            "button_style": "",
            "_view_module": "@jupyter-widgets/controls",
            "_model_module_version": "1.5.0",
            "accept": "",
            "_view_count": null,
            "disabled": false,
            "_view_module_version": "1.5.0",
            "error": "",
            "description_tooltip": null,
            "metadata": [
              {
                "name": "download.jpg",
                "type": "image/jpeg",
                "size": 98238,
                "lastModified": 1622963504937
              }
            ],
            "_model_module": "@jupyter-widgets/controls",
            "layout": "IPY_MODEL_4a3f12f979c5492ea350f9da96b66497",
            "icon": "upload"
          }
        },
        "6c30ed98ee8849b7b2ae5144ef1ec909": {
          "model_module": "@jupyter-widgets/controls",
          "model_name": "ButtonStyleModel",
          "state": {
            "_view_name": "StyleView",
            "_model_name": "ButtonStyleModel",
            "_view_module": "@jupyter-widgets/base",
            "_model_module_version": "1.5.0",
            "_view_count": null,
            "button_color": null,
            "font_weight": "",
            "_view_module_version": "1.2.0",
            "_model_module": "@jupyter-widgets/controls"
          }
        },
        "4a3f12f979c5492ea350f9da96b66497": {
          "model_module": "@jupyter-widgets/base",
          "model_name": "LayoutModel",
          "state": {
            "_view_name": "LayoutView",
            "grid_template_rows": null,
            "right": null,
            "justify_content": null,
            "_view_module": "@jupyter-widgets/base",
            "overflow": null,
            "_model_module_version": "1.2.0",
            "_view_count": null,
            "flex_flow": null,
            "width": null,
            "min_width": null,
            "border": null,
            "align_items": null,
            "bottom": null,
            "_model_module": "@jupyter-widgets/base",
            "top": null,
            "grid_column": null,
            "overflow_y": null,
            "overflow_x": null,
            "grid_auto_flow": null,
            "grid_area": null,
            "grid_template_columns": null,
            "flex": null,
            "_model_name": "LayoutModel",
            "justify_items": null,
            "grid_row": null,
            "max_height": null,
            "align_content": null,
            "visibility": null,
            "align_self": null,
            "height": null,
            "min_height": null,
            "padding": null,
            "grid_auto_rows": null,
            "grid_gap": null,
            "max_width": null,
            "order": null,
            "_view_module_version": "1.2.0",
            "grid_template_areas": null,
            "object_position": null,
            "object_fit": null,
            "grid_auto_columns": null,
            "margin": null,
            "display": null,
            "left": null
          }
        },
        "416c8ed970844fdc9991c3924b496efb": {
          "model_module": "@jupyter-widgets/controls",
          "model_name": "VBoxModel",
          "state": {
            "_view_name": "VBoxView",
            "_dom_classes": [],
            "_model_name": "VBoxModel",
            "_view_module": "@jupyter-widgets/controls",
            "_model_module_version": "1.5.0",
            "_view_count": null,
            "_view_module_version": "1.5.0",
            "box_style": "",
            "layout": "IPY_MODEL_31477275712b48988a98f96427f10136",
            "_model_module": "@jupyter-widgets/controls",
            "children": [
              "IPY_MODEL_13b9da77147d4dfaabaaecc3eef7bb67",
              "IPY_MODEL_dd28a3b160364f108c8295be4b4bb41e",
              "IPY_MODEL_cdb24b3c26d54bc08d40956e83a35a1b",
              "IPY_MODEL_04ae1a29864440549f67c6369f6a58b5",
              "IPY_MODEL_9a005e1b72794bf3984d4e423408caed"
            ]
          }
        },
        "31477275712b48988a98f96427f10136": {
          "model_module": "@jupyter-widgets/base",
          "model_name": "LayoutModel",
          "state": {
            "_view_name": "LayoutView",
            "grid_template_rows": null,
            "right": null,
            "justify_content": null,
            "_view_module": "@jupyter-widgets/base",
            "overflow": null,
            "_model_module_version": "1.2.0",
            "_view_count": null,
            "flex_flow": null,
            "width": null,
            "min_width": null,
            "border": null,
            "align_items": null,
            "bottom": null,
            "_model_module": "@jupyter-widgets/base",
            "top": null,
            "grid_column": null,
            "overflow_y": null,
            "overflow_x": null,
            "grid_auto_flow": null,
            "grid_area": null,
            "grid_template_columns": null,
            "flex": null,
            "_model_name": "LayoutModel",
            "justify_items": null,
            "grid_row": null,
            "max_height": null,
            "align_content": null,
            "visibility": null,
            "align_self": null,
            "height": null,
            "min_height": null,
            "padding": null,
            "grid_auto_rows": null,
            "grid_gap": null,
            "max_width": null,
            "order": null,
            "_view_module_version": "1.2.0",
            "grid_template_areas": null,
            "object_position": null,
            "object_fit": null,
            "grid_auto_columns": null,
            "margin": null,
            "display": null,
            "left": null
          }
        },
        "13b9da77147d4dfaabaaecc3eef7bb67": {
          "model_module": "@jupyter-widgets/controls",
          "model_name": "LabelModel",
          "state": {
            "_view_name": "LabelView",
            "style": "IPY_MODEL_57e935f3d56440ecb008941f8d6c4f08",
            "_dom_classes": [],
            "description": "",
            "_model_name": "LabelModel",
            "placeholder": "​",
            "_view_module": "@jupyter-widgets/controls",
            "_model_module_version": "1.5.0",
            "value": "Select your grill!",
            "_view_count": null,
            "_view_module_version": "1.5.0",
            "description_tooltip": null,
            "_model_module": "@jupyter-widgets/controls",
            "layout": "IPY_MODEL_235bbe2119a148ed998799531ec94b73"
          }
        },
        "dd28a3b160364f108c8295be4b4bb41e": {
          "model_module": "@jupyter-widgets/controls",
          "model_name": "FileUploadModel",
          "state": {
            "_view_name": "FileUploadView",
            "_counter": 2,
            "style": "IPY_MODEL_637f23def1194ed8a823b59d6e9f7b74",
            "_dom_classes": [],
            "description": "Upload",
            "multiple": false,
            "_model_name": "FileUploadModel",
            "data": [
              null
            ],
            "button_style": "",
            "_view_module": "@jupyter-widgets/controls",
            "_model_module_version": "1.5.0",
            "accept": "",
            "_view_count": null,
            "disabled": false,
            "_view_module_version": "1.5.0",
            "error": "",
            "description_tooltip": null,
            "metadata": [
              {
                "name": "download.jpg",
                "type": "image/jpeg",
                "size": 6949,
                "lastModified": 1622963643654
              }
            ],
            "_model_module": "@jupyter-widgets/controls",
            "layout": "IPY_MODEL_2c86607f947345f3b0d0ccd3e951090e",
            "icon": "upload"
          }
        },
        "cdb24b3c26d54bc08d40956e83a35a1b": {
          "model_module": "@jupyter-widgets/controls",
          "model_name": "ButtonModel",
          "state": {
            "_view_name": "ButtonView",
            "style": "IPY_MODEL_97f438723b4b4715ab4505770017cf81",
            "_dom_classes": [],
            "description": "Classify",
            "_model_name": "ButtonModel",
            "button_style": "",
            "_view_module": "@jupyter-widgets/controls",
            "_model_module_version": "1.5.0",
            "tooltip": "",
            "_view_count": null,
            "disabled": false,
            "_view_module_version": "1.5.0",
            "layout": "IPY_MODEL_0f73dc1d2dfd437c8f1ca152be5d7db6",
            "_model_module": "@jupyter-widgets/controls",
            "icon": ""
          }
        },
        "04ae1a29864440549f67c6369f6a58b5": {
          "model_module": "@jupyter-widgets/output",
          "model_name": "OutputModel",
          "state": {
            "_view_name": "OutputView",
            "msg_id": "",
            "_dom_classes": [],
            "_model_name": "OutputModel",
            "outputs": [
              {
                "output_type": "display_data",
                "metadata": {
                  "tags": []
                },
                "image/png": "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\n",
                "text/plain": "<PIL.Image.Image image mode=RGB size=74x128 at 0x7FEA67358950>"
              }
            ],
            "_view_module": "@jupyter-widgets/output",
            "_model_module_version": "1.0.0",
            "_view_count": null,
            "_view_module_version": "1.0.0",
            "layout": "IPY_MODEL_3ce0412af0fb4a37aa0fbd5b8983b1bf",
            "_model_module": "@jupyter-widgets/output"
          }
        },
        "9a005e1b72794bf3984d4e423408caed": {
          "model_module": "@jupyter-widgets/controls",
          "model_name": "LabelModel",
          "state": {
            "_view_name": "LabelView",
            "style": "IPY_MODEL_3a867a7335cc4433812511b01ebccf9f",
            "_dom_classes": [],
            "description": "",
            "_model_name": "LabelModel",
            "placeholder": "​",
            "_view_module": "@jupyter-widgets/controls",
            "_model_module_version": "1.5.0",
            "value": "Prediction: korean; Probability: 0.7455",
            "_view_count": null,
            "_view_module_version": "1.5.0",
            "description_tooltip": null,
            "_model_module": "@jupyter-widgets/controls",
            "layout": "IPY_MODEL_592901f0bb1c49e59a0fbe3a75bca193"
          }
        },
        "57e935f3d56440ecb008941f8d6c4f08": {
          "model_module": "@jupyter-widgets/controls",
          "model_name": "DescriptionStyleModel",
          "state": {
            "_view_name": "StyleView",
            "_model_name": "DescriptionStyleModel",
            "description_width": "",
            "_view_module": "@jupyter-widgets/base",
            "_model_module_version": "1.5.0",
            "_view_count": null,
            "_view_module_version": "1.2.0",
            "_model_module": "@jupyter-widgets/controls"
          }
        },
        "235bbe2119a148ed998799531ec94b73": {
          "model_module": "@jupyter-widgets/base",
          "model_name": "LayoutModel",
          "state": {
            "_view_name": "LayoutView",
            "grid_template_rows": null,
            "right": null,
            "justify_content": null,
            "_view_module": "@jupyter-widgets/base",
            "overflow": null,
            "_model_module_version": "1.2.0",
            "_view_count": null,
            "flex_flow": null,
            "width": null,
            "min_width": null,
            "border": null,
            "align_items": null,
            "bottom": null,
            "_model_module": "@jupyter-widgets/base",
            "top": null,
            "grid_column": null,
            "overflow_y": null,
            "overflow_x": null,
            "grid_auto_flow": null,
            "grid_area": null,
            "grid_template_columns": null,
            "flex": null,
            "_model_name": "LayoutModel",
            "justify_items": null,
            "grid_row": null,
            "max_height": null,
            "align_content": null,
            "visibility": null,
            "align_self": null,
            "height": null,
            "min_height": null,
            "padding": null,
            "grid_auto_rows": null,
            "grid_gap": null,
            "max_width": null,
            "order": null,
            "_view_module_version": "1.2.0",
            "grid_template_areas": null,
            "object_position": null,
            "object_fit": null,
            "grid_auto_columns": null,
            "margin": null,
            "display": null,
            "left": null
          }
        },
        "637f23def1194ed8a823b59d6e9f7b74": {
          "model_module": "@jupyter-widgets/controls",
          "model_name": "ButtonStyleModel",
          "state": {
            "_view_name": "StyleView",
            "_model_name": "ButtonStyleModel",
            "_view_module": "@jupyter-widgets/base",
            "_model_module_version": "1.5.0",
            "_view_count": null,
            "button_color": null,
            "font_weight": "",
            "_view_module_version": "1.2.0",
            "_model_module": "@jupyter-widgets/controls"
          }
        },
        "2c86607f947345f3b0d0ccd3e951090e": {
          "model_module": "@jupyter-widgets/base",
          "model_name": "LayoutModel",
          "state": {
            "_view_name": "LayoutView",
            "grid_template_rows": null,
            "right": null,
            "justify_content": null,
            "_view_module": "@jupyter-widgets/base",
            "overflow": null,
            "_model_module_version": "1.2.0",
            "_view_count": null,
            "flex_flow": null,
            "width": null,
            "min_width": null,
            "border": null,
            "align_items": null,
            "bottom": null,
            "_model_module": "@jupyter-widgets/base",
            "top": null,
            "grid_column": null,
            "overflow_y": null,
            "overflow_x": null,
            "grid_auto_flow": null,
            "grid_area": null,
            "grid_template_columns": null,
            "flex": null,
            "_model_name": "LayoutModel",
            "justify_items": null,
            "grid_row": null,
            "max_height": null,
            "align_content": null,
            "visibility": null,
            "align_self": null,
            "height": null,
            "min_height": null,
            "padding": null,
            "grid_auto_rows": null,
            "grid_gap": null,
            "max_width": null,
            "order": null,
            "_view_module_version": "1.2.0",
            "grid_template_areas": null,
            "object_position": null,
            "object_fit": null,
            "grid_auto_columns": null,
            "margin": null,
            "display": null,
            "left": null
          }
        },
        "97f438723b4b4715ab4505770017cf81": {
          "model_module": "@jupyter-widgets/controls",
          "model_name": "ButtonStyleModel",
          "state": {
            "_view_name": "StyleView",
            "_model_name": "ButtonStyleModel",
            "_view_module": "@jupyter-widgets/base",
            "_model_module_version": "1.5.0",
            "_view_count": null,
            "button_color": null,
            "font_weight": "",
            "_view_module_version": "1.2.0",
            "_model_module": "@jupyter-widgets/controls"
          }
        },
        "0f73dc1d2dfd437c8f1ca152be5d7db6": {
          "model_module": "@jupyter-widgets/base",
          "model_name": "LayoutModel",
          "state": {
            "_view_name": "LayoutView",
            "grid_template_rows": null,
            "right": null,
            "justify_content": null,
            "_view_module": "@jupyter-widgets/base",
            "overflow": null,
            "_model_module_version": "1.2.0",
            "_view_count": null,
            "flex_flow": null,
            "width": null,
            "min_width": null,
            "border": null,
            "align_items": null,
            "bottom": null,
            "_model_module": "@jupyter-widgets/base",
            "top": null,
            "grid_column": null,
            "overflow_y": null,
            "overflow_x": null,
            "grid_auto_flow": null,
            "grid_area": null,
            "grid_template_columns": null,
            "flex": null,
            "_model_name": "LayoutModel",
            "justify_items": null,
            "grid_row": null,
            "max_height": null,
            "align_content": null,
            "visibility": null,
            "align_self": null,
            "height": null,
            "min_height": null,
            "padding": null,
            "grid_auto_rows": null,
            "grid_gap": null,
            "max_width": null,
            "order": null,
            "_view_module_version": "1.2.0",
            "grid_template_areas": null,
            "object_position": null,
            "object_fit": null,
            "grid_auto_columns": null,
            "margin": null,
            "display": null,
            "left": null
          }
        },
        "3a867a7335cc4433812511b01ebccf9f": {
          "model_module": "@jupyter-widgets/controls",
          "model_name": "DescriptionStyleModel",
          "state": {
            "_view_name": "StyleView",
            "_model_name": "DescriptionStyleModel",
            "description_width": "",
            "_view_module": "@jupyter-widgets/base",
            "_model_module_version": "1.5.0",
            "_view_count": null,
            "_view_module_version": "1.2.0",
            "_model_module": "@jupyter-widgets/controls"
          }
        },
        "592901f0bb1c49e59a0fbe3a75bca193": {
          "model_module": "@jupyter-widgets/base",
          "model_name": "LayoutModel",
          "state": {
            "_view_name": "LayoutView",
            "grid_template_rows": null,
            "right": null,
            "justify_content": null,
            "_view_module": "@jupyter-widgets/base",
            "overflow": null,
            "_model_module_version": "1.2.0",
            "_view_count": null,
            "flex_flow": null,
            "width": null,
            "min_width": null,
            "border": null,
            "align_items": null,
            "bottom": null,
            "_model_module": "@jupyter-widgets/base",
            "top": null,
            "grid_column": null,
            "overflow_y": null,
            "overflow_x": null,
            "grid_auto_flow": null,
            "grid_area": null,
            "grid_template_columns": null,
            "flex": null,
            "_model_name": "LayoutModel",
            "justify_items": null,
            "grid_row": null,
            "max_height": null,
            "align_content": null,
            "visibility": null,
            "align_self": null,
            "height": null,
            "min_height": null,
            "padding": null,
            "grid_auto_rows": null,
            "grid_gap": null,
            "max_width": null,
            "order": null,
            "_view_module_version": "1.2.0",
            "grid_template_areas": null,
            "object_position": null,
            "object_fit": null,
            "grid_auto_columns": null,
            "margin": null,
            "display": null,
            "left": null
          }
        },
        "3ce0412af0fb4a37aa0fbd5b8983b1bf": {
          "model_module": "@jupyter-widgets/base",
          "model_name": "LayoutModel",
          "state": {
            "_view_name": "LayoutView",
            "grid_template_rows": null,
            "right": null,
            "justify_content": null,
            "_view_module": "@jupyter-widgets/base",
            "overflow": null,
            "_model_module_version": "1.2.0",
            "_view_count": null,
            "flex_flow": null,
            "width": null,
            "min_width": null,
            "border": null,
            "align_items": null,
            "bottom": null,
            "_model_module": "@jupyter-widgets/base",
            "top": null,
            "grid_column": null,
            "overflow_y": null,
            "overflow_x": null,
            "grid_auto_flow": null,
            "grid_area": null,
            "grid_template_columns": null,
            "flex": null,
            "_model_name": "LayoutModel",
            "justify_items": null,
            "grid_row": null,
            "max_height": null,
            "align_content": null,
            "visibility": null,
            "align_self": null,
            "height": null,
            "min_height": null,
            "padding": null,
            "grid_auto_rows": null,
            "grid_gap": null,
            "max_width": null,
            "order": null,
            "_view_module_version": "1.2.0",
            "grid_template_areas": null,
            "object_position": null,
            "object_fit": null,
            "grid_auto_columns": null,
            "margin": null,
            "display": null,
            "left": null
          }
        }
      }
    }
  },
  "cells": [
    {
      "cell_type": "markdown",
      "metadata": {
        "id": "view-in-github",
        "colab_type": "text"
      },
      "source": [
        "<a href=\"https://colab.research.google.com/github/khanhthanhh9/Deep-Learning-Model/blob/main/2_Korea_Chinese_VN.ipynb\" target=\"_parent\"><img src=\"https://colab.research.google.com/assets/colab-badge.svg\" alt=\"Open In Colab\"/></a>"
      ]
    },
    {
      "cell_type": "code",
      "metadata": {
        "colab": {
          "base_uri": "https://localhost:8080/"
        },
        "id": "pty2VoCbmzBh",
        "outputId": "e127dcfa-fb2c-47e1-f146-9d5be19047dc"
      },
      "source": [
        "!pip install -Uqq fastbook\n",
        "import fastbook\n",
        "fastbook.setup_book()"
      ],
      "execution_count": null,
      "outputs": [
        {
          "output_type": "stream",
          "text": [
            "\u001b[K     |████████████████████████████████| 727kB 8.7MB/s \n",
            "\u001b[K     |████████████████████████████████| 204kB 39.5MB/s \n",
            "\u001b[K     |████████████████████████████████| 1.2MB 40.0MB/s \n",
            "\u001b[K     |████████████████████████████████| 51kB 7.7MB/s \n",
            "\u001b[K     |████████████████████████████████| 61kB 9.1MB/s \n",
            "\u001b[K     |████████████████████████████████| 61kB 9.5MB/s \n",
            "\u001b[?25hMounted at /content/gdrive\n"
          ],
          "name": "stdout"
        }
      ]
    },
    {
      "cell_type": "code",
      "metadata": {
        "id": "iwtl5IhanCai"
      },
      "source": [
        "from fastbook import *\n",
        "from fastai.vision.widgets import *"
      ],
      "execution_count": null,
      "outputs": []
    },
    {
      "cell_type": "code",
      "metadata": {
        "id": "63WtZDKFnRrm"
      },
      "source": [
        "key = os.environ.get('AZURE_SEARCH_KEY', '455fc18d0b0c42b384ee21cabcc4dc31')"
      ],
      "execution_count": null,
      "outputs": []
    },
    {
      "cell_type": "code",
      "metadata": {
        "colab": {
          "base_uri": "https://localhost:8080/"
        },
        "id": "m138lJGHnZ_W",
        "outputId": "19f695af-5f4a-4519-a306-87520b87530b"
      },
      "source": [
        "results = search_images_bing(key, 'Vietnam Women')\n",
        "ims = results.attrgot('contentUrl')\n",
        "len(ims)"
      ],
      "execution_count": null,
      "outputs": [
        {
          "output_type": "execute_result",
          "data": {
            "text/plain": [
              "150"
            ]
          },
          "metadata": {
            "tags": []
          },
          "execution_count": 7
        }
      ]
    },
    {
      "cell_type": "code",
      "metadata": {
        "colab": {
          "base_uri": "https://localhost:8080/",
          "height": 142
        },
        "id": "5Jn2DlMPBVVn",
        "outputId": "2e2a18c9-33cb-4183-d4d4-f488f8eabc73"
      },
      "source": [
        "doc(L.attrgot)"
      ],
      "execution_count": null,
      "outputs": [
        {
          "output_type": "display_data",
          "data": {
            "text/html": [
              "<h4 id=\"L.attrgot\" class=\"doc_header\"><code>L.attrgot</code><a href=\"https://github.com/fastai/fastcore/tree/master/fastcore/foundation.py#L172\" class=\"source_link\" style=\"float:right\">[source]</a></h4><blockquote><p><code>L.attrgot</code>(<strong><code>k</code></strong>, <strong><code>default</code></strong>=<em><code>None</code></em>)</p>\n",
              "</blockquote>\n",
              "<p>Create new <code>L</code> with attr <code>k</code> (or value <code>k</code> for dicts) of all <code>items</code>.</p>\n",
              "<p><a href=\"https://fastcore.fast.ai/foundation#L.attrgot\" target=\"_blank\" rel=\"noreferrer noopener\">Show in docs</a></p>\n"
            ],
            "text/plain": [
              "<IPython.core.display.HTML object>"
            ]
          },
          "metadata": {
            "tags": []
          }
        }
      ]
    },
    {
      "cell_type": "code",
      "metadata": {
        "id": "_Vv7KAXSnld_"
      },
      "source": [
        "girl_types = 'vietnam','chinese','korean'\n",
        "path = Path('women')"
      ],
      "execution_count": null,
      "outputs": []
    },
    {
      "cell_type": "code",
      "metadata": {
        "id": "Dqcy-v_antiX"
      },
      "source": [
        "if not path.exists():\n",
        "    path.mkdir()\n",
        "    for o in girl_types:\n",
        "        dest = (path/o)\n",
        "        dest.mkdir(exist_ok=True)\n",
        "        results = search_images_bing(key, f'{o} women')\n",
        "        download_images(dest, urls=results.attrgot('contentUrl'))"
      ],
      "execution_count": null,
      "outputs": []
    },
    {
      "cell_type": "code",
      "metadata": {
        "colab": {
          "base_uri": "https://localhost:8080/"
        },
        "id": "5JDn5D3HoMFf",
        "outputId": "bddf0de9-84dd-4504-8219-3342209fe4d2"
      },
      "source": [
        "fns = get_image_files(path)\n",
        "fns"
      ],
      "execution_count": null,
      "outputs": [
        {
          "output_type": "execute_result",
          "data": {
            "text/plain": [
              "(#430) [Path('women/vietnam/00000098.jpg'),Path('women/vietnam/00000051.jpg'),Path('women/vietnam/00000026.jpg'),Path('women/vietnam/00000032.jpg'),Path('women/vietnam/00000105.jpg'),Path('women/vietnam/00000072.jpg'),Path('women/vietnam/00000022.jpg'),Path('women/vietnam/00000019.jpg'),Path('women/vietnam/00000020.jpg'),Path('women/vietnam/00000092.jpg')...]"
            ]
          },
          "metadata": {
            "tags": []
          },
          "execution_count": 20
        }
      ]
    },
    {
      "cell_type": "code",
      "metadata": {
        "colab": {
          "base_uri": "https://localhost:8080/"
        },
        "id": "0iYIUWTroWr1",
        "outputId": "e48d3374-9ffe-4a89-f5d5-e2a725f0ff7e"
      },
      "source": [
        "failed = verify_images(fns)\n",
        "failed"
      ],
      "execution_count": null,
      "outputs": [
        {
          "output_type": "execute_result",
          "data": {
            "text/plain": [
              "(#3) [Path('women/vietnam/00000059.jpg'),Path('women/vietnam/00000060.jpg'),Path('women/korean/00000014.jpg')]"
            ]
          },
          "metadata": {
            "tags": []
          },
          "execution_count": 21
        }
      ]
    },
    {
      "cell_type": "code",
      "metadata": {
        "id": "lkxU-GO1oa_-"
      },
      "source": [
        "failed.map(Path.unlink);"
      ],
      "execution_count": null,
      "outputs": []
    },
    {
      "cell_type": "code",
      "metadata": {
        "id": "Ek0WZt5ZomzE"
      },
      "source": [
        "girls = DataBlock(\n",
        "    blocks=(ImageBlock, CategoryBlock), \n",
        "    get_items=get_image_files, \n",
        "    splitter=RandomSplitter(valid_pct=0.2, seed=42),\n",
        "    get_y=parent_label,\n",
        "    item_tfms=Resize(128))"
      ],
      "execution_count": null,
      "outputs": []
    },
    {
      "cell_type": "code",
      "metadata": {
        "id": "7krb8ZAco4__"
      },
      "source": [
        "dls = girls.dataloaders(path)"
      ],
      "execution_count": null,
      "outputs": []
    },
    {
      "cell_type": "code",
      "metadata": {
        "id": "FQN_q7_Vo-mX"
      },
      "source": [
        "dls.valid.show_batch(max_n=4, nrows=5)"
      ],
      "execution_count": null,
      "outputs": []
    },
    {
      "cell_type": "code",
      "metadata": {
        "id": "uTQPsJhzpUyI"
      },
      "source": [
        "girls = girls.new(\n",
        "    item_tfms=RandomResizedCrop(224, min_scale=0.7),\n",
        "    batch_tfms=aug_transforms())\n",
        "dls = girls.dataloaders(path)"
      ],
      "execution_count": null,
      "outputs": []
    },
    {
      "cell_type": "code",
      "metadata": {
        "colab": {
          "base_uri": "https://localhost:8080/",
          "height": 339
        },
        "id": "o6ZS9O10pbSO",
        "outputId": "98df799c-d77c-4be4-f530-715eb8658832"
      },
      "source": [
        "learn = cnn_learner(dls, resnet18, metrics=error_rate)\n",
        "learn.fine_tune(8)"
      ],
      "execution_count": null,
      "outputs": [
        {
          "output_type": "display_data",
          "data": {
            "text/html": [
              "<table border=\"1\" class=\"dataframe\">\n",
              "  <thead>\n",
              "    <tr style=\"text-align: left;\">\n",
              "      <th>epoch</th>\n",
              "      <th>train_loss</th>\n",
              "      <th>valid_loss</th>\n",
              "      <th>error_rate</th>\n",
              "      <th>time</th>\n",
              "    </tr>\n",
              "  </thead>\n",
              "  <tbody>\n",
              "    <tr>\n",
              "      <td>0</td>\n",
              "      <td>2.020743</td>\n",
              "      <td>2.015229</td>\n",
              "      <td>0.630952</td>\n",
              "      <td>00:56</td>\n",
              "    </tr>\n",
              "  </tbody>\n",
              "</table>"
            ],
            "text/plain": [
              "<IPython.core.display.HTML object>"
            ]
          },
          "metadata": {
            "tags": []
          }
        },
        {
          "output_type": "display_data",
          "data": {
            "text/html": [
              "<table border=\"1\" class=\"dataframe\">\n",
              "  <thead>\n",
              "    <tr style=\"text-align: left;\">\n",
              "      <th>epoch</th>\n",
              "      <th>train_loss</th>\n",
              "      <th>valid_loss</th>\n",
              "      <th>error_rate</th>\n",
              "      <th>time</th>\n",
              "    </tr>\n",
              "  </thead>\n",
              "  <tbody>\n",
              "    <tr>\n",
              "      <td>0</td>\n",
              "      <td>1.545161</td>\n",
              "      <td>1.275471</td>\n",
              "      <td>0.511905</td>\n",
              "      <td>01:10</td>\n",
              "    </tr>\n",
              "    <tr>\n",
              "      <td>1</td>\n",
              "      <td>1.414719</td>\n",
              "      <td>1.163438</td>\n",
              "      <td>0.511905</td>\n",
              "      <td>01:10</td>\n",
              "    </tr>\n",
              "    <tr>\n",
              "      <td>2</td>\n",
              "      <td>1.306768</td>\n",
              "      <td>1.277244</td>\n",
              "      <td>0.511905</td>\n",
              "      <td>01:10</td>\n",
              "    </tr>\n",
              "    <tr>\n",
              "      <td>3</td>\n",
              "      <td>1.191957</td>\n",
              "      <td>1.367140</td>\n",
              "      <td>0.535714</td>\n",
              "      <td>01:10</td>\n",
              "    </tr>\n",
              "    <tr>\n",
              "      <td>4</td>\n",
              "      <td>1.108944</td>\n",
              "      <td>1.398963</td>\n",
              "      <td>0.511905</td>\n",
              "      <td>01:10</td>\n",
              "    </tr>\n",
              "    <tr>\n",
              "      <td>5</td>\n",
              "      <td>1.014657</td>\n",
              "      <td>1.341737</td>\n",
              "      <td>0.500000</td>\n",
              "      <td>01:10</td>\n",
              "    </tr>\n",
              "    <tr>\n",
              "      <td>6</td>\n",
              "      <td>0.929621</td>\n",
              "      <td>1.340562</td>\n",
              "      <td>0.464286</td>\n",
              "      <td>01:10</td>\n",
              "    </tr>\n",
              "    <tr>\n",
              "      <td>7</td>\n",
              "      <td>0.884190</td>\n",
              "      <td>1.339980</td>\n",
              "      <td>0.464286</td>\n",
              "      <td>01:10</td>\n",
              "    </tr>\n",
              "  </tbody>\n",
              "</table>"
            ],
            "text/plain": [
              "<IPython.core.display.HTML object>"
            ]
          },
          "metadata": {
            "tags": []
          }
        }
      ]
    },
    {
      "cell_type": "code",
      "metadata": {
        "colab": {
          "base_uri": "https://localhost:8080/",
          "height": 176
        },
        "id": "je6r2hmirf-F",
        "outputId": "2ebed75f-2236-4db8-9ea8-00cfd82bfdfb"
      },
      "source": [
        "interp = ClassificationInterpretation.from_learner(learn)\n",
        "interp.plot_confusion_matrix()"
      ],
      "execution_count": null,
      "outputs": [
        {
          "output_type": "error",
          "ename": "NameError",
          "evalue": "ignored",
          "traceback": [
            "\u001b[0;31m---------------------------------------------------------------------------\u001b[0m",
            "\u001b[0;31mNameError\u001b[0m                                 Traceback (most recent call last)",
            "\u001b[0;32m<ipython-input-1-f457f3564e59>\u001b[0m in \u001b[0;36m<module>\u001b[0;34m()\u001b[0m\n\u001b[0;32m----> 1\u001b[0;31m \u001b[0minterp\u001b[0m \u001b[0;34m=\u001b[0m \u001b[0mClassificationInterpretation\u001b[0m\u001b[0;34m.\u001b[0m\u001b[0mfrom_learner\u001b[0m\u001b[0;34m(\u001b[0m\u001b[0mlearn\u001b[0m\u001b[0;34m)\u001b[0m\u001b[0;34m\u001b[0m\u001b[0;34m\u001b[0m\u001b[0m\n\u001b[0m\u001b[1;32m      2\u001b[0m \u001b[0minterp\u001b[0m\u001b[0;34m.\u001b[0m\u001b[0mplot_confusion_matrix\u001b[0m\u001b[0;34m(\u001b[0m\u001b[0;34m)\u001b[0m\u001b[0;34m\u001b[0m\u001b[0;34m\u001b[0m\u001b[0m\n",
            "\u001b[0;31mNameError\u001b[0m: name 'ClassificationInterpretation' is not defined"
          ]
        }
      ]
    },
    {
      "cell_type": "code",
      "metadata": {
        "id": "ILLzAnmgrrXX"
      },
      "source": [
        "interp.plot_top_losses(20, nrows=4)"
      ],
      "execution_count": null,
      "outputs": []
    },
    {
      "cell_type": "code",
      "metadata": {
        "id": "SulpaZBrr8i8"
      },
      "source": [
        "cleaner = ImageClassifierCleaner(learn)\n",
        "cleaner\n"
      ],
      "execution_count": null,
      "outputs": []
    },
    {
      "cell_type": "code",
      "metadata": {
        "id": "IMqGWhEVsbXk"
      },
      "source": [
        "for idx in cleaner.delete(): cleaner.fns[idx].unlink()\n"
      ],
      "execution_count": null,
      "outputs": []
    },
    {
      "cell_type": "code",
      "metadata": {
        "id": "VIT53lnXteCG"
      },
      "source": [
        "learn.export()"
      ],
      "execution_count": null,
      "outputs": []
    },
    {
      "cell_type": "code",
      "metadata": {
        "colab": {
          "base_uri": "https://localhost:8080/"
        },
        "id": "xew46bCNtiuU",
        "outputId": "e55f78fa-ace6-4084-d0ed-69b332eb26ae"
      },
      "source": [
        "path = Path()\n",
        "path.ls(file_exts='.pkl')"
      ],
      "execution_count": null,
      "outputs": [
        {
          "output_type": "execute_result",
          "data": {
            "text/plain": [
              "(#1) [Path('export.pkl')]"
            ]
          },
          "metadata": {
            "tags": []
          },
          "execution_count": 39
        }
      ]
    },
    {
      "cell_type": "code",
      "metadata": {
        "id": "-KjospsMtmX0"
      },
      "source": [
        "learn_inf = load_learner(path/'export.pkl')"
      ],
      "execution_count": null,
      "outputs": []
    },
    {
      "cell_type": "code",
      "metadata": {
        "colab": {
          "base_uri": "https://localhost:8080/",
          "height": 48,
          "referenced_widgets": [
            "bde1f599b07647cb8bd19d9c979bdaaa",
            "6c30ed98ee8849b7b2ae5144ef1ec909",
            "4a3f12f979c5492ea350f9da96b66497"
          ]
        },
        "id": "Lcmy5eExssqw",
        "outputId": "30a42b73-1643-4109-e123-eb4b80348c47"
      },
      "source": [
        "btn_upload = widgets.FileUpload()\n",
        "btn_upload\n"
      ],
      "execution_count": null,
      "outputs": [
        {
          "output_type": "display_data",
          "data": {
            "application/vnd.jupyter.widget-view+json": {
              "model_id": "bde1f599b07647cb8bd19d9c979bdaaa",
              "version_minor": 0,
              "version_major": 2
            },
            "text/plain": [
              "FileUpload(value={}, description='Upload')"
            ]
          },
          "metadata": {
            "tags": []
          }
        }
      ]
    },
    {
      "cell_type": "code",
      "metadata": {
        "colab": {
          "base_uri": "https://localhost:8080/",
          "height": 16
        },
        "id": "iqhmG8ejtEf9",
        "outputId": "8be4b46e-e8b1-46a5-fa96-9640f07bb43a"
      },
      "source": [
        "img = PILImage.create(btn_upload.data[-1])\n",
        "out_pl = widgets.Output()\n",
        "out_pl.clear_output()\n",
        "with out_pl: display(img.to_thumb(128,128))\n",
        "pred,pred_idx,probs = learn_inf.predict(img)\n",
        "lbl_pred = widgets.Label()\n",
        "lbl_pred.value = f'Prediction: {pred}; Probability: {probs[pred_idx]:.04f}'\n",
        "btn_run = widgets.Button(description='Classify')\n",
        "\n",
        "def on_click_classify(change):\n",
        "    img = PILImage.create(btn_upload.data[-1])\n",
        "    out_pl.clear_output()\n",
        "    with out_pl: display(img.to_thumb(128,128))\n",
        "    pred,pred_idx,probs = learn_inf.predict(img)\n",
        "    lbl_pred.value = f'Prediction: {pred}; Probability: {probs[pred_idx]:.04f}'\n",
        "    \n"
      ],
      "execution_count": null,
      "outputs": [
        {
          "output_type": "display_data",
          "data": {
            "text/html": [
              ""
            ],
            "text/plain": [
              "<IPython.core.display.HTML object>"
            ]
          },
          "metadata": {
            "tags": []
          }
        }
      ]
    },
    {
      "cell_type": "code",
      "metadata": {
        "id": "RXUssLS8tzWF"
      },
      "source": [
        "btn_run.on_click(on_click_classify)"
      ],
      "execution_count": null,
      "outputs": []
    },
    {
      "cell_type": "code",
      "metadata": {
        "id": "5ikFbU7bt0mu"
      },
      "source": [
        "btn_upload = widgets.FileUpload()"
      ],
      "execution_count": null,
      "outputs": []
    },
    {
      "cell_type": "code",
      "metadata": {
        "colab": {
          "base_uri": "https://localhost:8080/",
          "height": 272,
          "referenced_widgets": [
            "416c8ed970844fdc9991c3924b496efb",
            "31477275712b48988a98f96427f10136",
            "13b9da77147d4dfaabaaecc3eef7bb67",
            "dd28a3b160364f108c8295be4b4bb41e",
            "cdb24b3c26d54bc08d40956e83a35a1b",
            "04ae1a29864440549f67c6369f6a58b5",
            "9a005e1b72794bf3984d4e423408caed",
            "57e935f3d56440ecb008941f8d6c4f08",
            "235bbe2119a148ed998799531ec94b73",
            "637f23def1194ed8a823b59d6e9f7b74",
            "2c86607f947345f3b0d0ccd3e951090e",
            "97f438723b4b4715ab4505770017cf81",
            "0f73dc1d2dfd437c8f1ca152be5d7db6",
            "3a867a7335cc4433812511b01ebccf9f",
            "592901f0bb1c49e59a0fbe3a75bca193",
            "3ce0412af0fb4a37aa0fbd5b8983b1bf"
          ]
        },
        "id": "Um3mY8ESt-Hc",
        "outputId": "f26c6b9a-c643-4804-e4be-52d7e8efd758"
      },
      "source": [
        "VBox([widgets.Label('Select your grill!'), \n",
        "      btn_upload, btn_run, out_pl, lbl_pred])"
      ],
      "execution_count": null,
      "outputs": [
        {
          "output_type": "display_data",
          "data": {
            "application/vnd.jupyter.widget-view+json": {
              "model_id": "416c8ed970844fdc9991c3924b496efb",
              "version_minor": 0,
              "version_major": 2
            },
            "text/plain": [
              "VBox(children=(Label(value='Select your grill!'), FileUpload(value={}, description='Upload'), Button(descripti…"
            ]
          },
          "metadata": {
            "tags": []
          }
        },
        {
          "output_type": "display_data",
          "data": {
            "text/html": [
              ""
            ],
            "text/plain": [
              "<IPython.core.display.HTML object>"
            ]
          },
          "metadata": {
            "tags": []
          }
        },
        {
          "output_type": "display_data",
          "data": {
            "text/html": [
              ""
            ],
            "text/plain": [
              "<IPython.core.display.HTML object>"
            ]
          },
          "metadata": {
            "tags": []
          }
        }
      ]
    }
  ]
}